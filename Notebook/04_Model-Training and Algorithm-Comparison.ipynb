{
 "cells": [
  {
   "cell_type": "markdown",
   "id": "31e97bc1-db46-4096-ab4d-e768f64be08b",
   "metadata": {},
   "source": [
    "# Model Training & Algorithm Comparison\n",
    "In this notebook, we will:\n",
    "1. Split the dataset into training and testing sets.  \n",
    "2. Train multiple algorithms on the training set.  \n",
    "3. Use **10-fold cross-validation** to evaluate accuracy.  \n",
    "4. Compare results visually using a bar chart, box plot and accuracy table.\n",
    "\n",
    "This step helps us identify the best-performing models before tuning."
   ]
  },
  {
   "cell_type": "markdown",
   "id": "0854d39f-378a-4085-81af-23cbba578a53",
   "metadata": {},
   "source": [
    "### Step 1: Set Project Root for Python Imports"
   ]
  },
  {
   "cell_type": "code",
   "execution_count": 1,
   "id": "e3f13161-c83b-431c-9693-be6932b2d53f",
   "metadata": {},
   "outputs": [],
   "source": [
    "import os\n",
    "import sys\n",
    "\n",
    "# Add project root to sys.path\n",
    "sys.path.append(os.path.abspath(\"..\"))"
   ]
  },
  {
   "cell_type": "markdown",
   "id": "bdcea241-9ff8-4084-9c5d-a5a3093a0f9e",
   "metadata": {},
   "source": [
    "### Step 2: Load Iris dataset\n",
    "We first load the Iris dataset into a Pandas DataFrame and preview the first 5 rows."
   ]
  },
  {
   "cell_type": "code",
   "execution_count": 2,
   "id": "12151597-92e5-4cf0-b5ca-d7eaf1a62fae",
   "metadata": {},
   "outputs": [
    {
     "data": {
      "text/html": [
       "<div>\n",
       "<style scoped>\n",
       "    .dataframe tbody tr th:only-of-type {\n",
       "        vertical-align: middle;\n",
       "    }\n",
       "\n",
       "    .dataframe tbody tr th {\n",
       "        vertical-align: top;\n",
       "    }\n",
       "\n",
       "    .dataframe thead th {\n",
       "        text-align: right;\n",
       "    }\n",
       "</style>\n",
       "<table border=\"1\" class=\"dataframe\">\n",
       "  <thead>\n",
       "    <tr style=\"text-align: right;\">\n",
       "      <th></th>\n",
       "      <th>SepalLengthCm</th>\n",
       "      <th>SepalWidthCm</th>\n",
       "      <th>PetalLengthCm</th>\n",
       "      <th>PetalWidthCm</th>\n",
       "      <th>Species</th>\n",
       "    </tr>\n",
       "  </thead>\n",
       "  <tbody>\n",
       "    <tr>\n",
       "      <th>0</th>\n",
       "      <td>5.1</td>\n",
       "      <td>3.5</td>\n",
       "      <td>1.4</td>\n",
       "      <td>0.2</td>\n",
       "      <td>0</td>\n",
       "    </tr>\n",
       "    <tr>\n",
       "      <th>1</th>\n",
       "      <td>4.9</td>\n",
       "      <td>3.0</td>\n",
       "      <td>1.4</td>\n",
       "      <td>0.2</td>\n",
       "      <td>0</td>\n",
       "    </tr>\n",
       "    <tr>\n",
       "      <th>2</th>\n",
       "      <td>4.7</td>\n",
       "      <td>3.2</td>\n",
       "      <td>1.3</td>\n",
       "      <td>0.2</td>\n",
       "      <td>0</td>\n",
       "    </tr>\n",
       "    <tr>\n",
       "      <th>3</th>\n",
       "      <td>4.6</td>\n",
       "      <td>3.1</td>\n",
       "      <td>1.5</td>\n",
       "      <td>0.2</td>\n",
       "      <td>0</td>\n",
       "    </tr>\n",
       "    <tr>\n",
       "      <th>4</th>\n",
       "      <td>5.0</td>\n",
       "      <td>3.6</td>\n",
       "      <td>1.4</td>\n",
       "      <td>0.2</td>\n",
       "      <td>0</td>\n",
       "    </tr>\n",
       "  </tbody>\n",
       "</table>\n",
       "</div>"
      ],
      "text/plain": [
       "   SepalLengthCm  SepalWidthCm  PetalLengthCm  PetalWidthCm  Species\n",
       "0            5.1           3.5            1.4           0.2        0\n",
       "1            4.9           3.0            1.4           0.2        0\n",
       "2            4.7           3.2            1.3           0.2        0\n",
       "3            4.6           3.1            1.5           0.2        0\n",
       "4            5.0           3.6            1.4           0.2        0"
      ]
     },
     "execution_count": 2,
     "metadata": {},
     "output_type": "execute_result"
    }
   ],
   "source": [
    "from src.data import load_data\n",
    "df =load_data(r\"D:\\Thiru\\ML_Projects\\Iris-Species-Prediction\\Data\\processed\\cleaned_iris.csv\")\n",
    "\n",
    "df.head()"
   ]
  },
  {
   "cell_type": "markdown",
   "id": "88143452-e329-4d24-ac48-4c1c36242d5e",
   "metadata": {},
   "source": [
    "### Step 3: Separate features (X) and target (y)\n",
    "- Target variable: `Species`\n",
    "- Features: all other columns"
   ]
  },
  {
   "cell_type": "code",
   "execution_count": 3,
   "id": "ec049738-4775-4e1f-9025-f675e8463dc4",
   "metadata": {},
   "outputs": [
    {
     "name": "stdout",
     "output_type": "stream",
     "text": [
      "Features Columns: Index(['SepalLengthCm', 'SepalWidthCm', 'PetalLengthCm', 'PetalWidthCm'], dtype='object')\n",
      "\n",
      "\n",
      "Target Columns: Species\n"
     ]
    }
   ],
   "source": [
    "from src.model import split_x_y\n",
    "X, Y = split_x_y(df)"
   ]
  },
  {
   "cell_type": "markdown",
   "id": "671d51a2-5962-4f42-b9fe-8f0d2038ca91",
   "metadata": {},
   "source": [
    "### Step 4: Split data into training and testing sets\n",
    "- 80% training, 20% testing\n",
    "- Random state for reproducibility"
   ]
  },
  {
   "cell_type": "code",
   "execution_count": 4,
   "id": "786c9332-f8e1-411a-942c-307278aaab9e",
   "metadata": {},
   "outputs": [
    {
     "name": "stdout",
     "output_type": "stream",
     "text": [
      "Training Sample: 120\n",
      "Testing Sample: 30\n"
     ]
    }
   ],
   "source": [
    "from src.model import split_train_test\n",
    "X_train, X_test, Y_train, Y_test = split_train_test(X, Y)"
   ]
  },
  {
   "cell_type": "markdown",
   "id": "7348e578-5f9c-4103-8a08-63070ddff28f",
   "metadata": {},
   "source": [
    "### Step 5: Train ML models\n",
    "We will train:\n",
    "- Logistic Regression\n",
    "- Decision Tree Classifier\n",
    "- Random Forest Classifier\n",
    "- K-Nearest Neighbors\n",
    "- SVM\n",
    "- LinearDiscriminantAnalysis\n",
    "- GaussianNB"
   ]
  },
  {
   "cell_type": "code",
   "execution_count": 5,
   "id": "8a92013b-985a-4ac9-882d-53fe5b2ec300",
   "metadata": {},
   "outputs": [
    {
     "name": "stdout",
     "output_type": "stream",
     "text": [
      "LR:95.000000%\n",
      "DT:92.500000%\n",
      "RFC:93.333333%\n",
      "KNN:94.166667%\n",
      "SVC:95.000000%\n",
      "LDA:97.500000%\n",
      "NB:94.166667%\n"
     ]
    }
   ],
   "source": [
    "from src.model import algo_comparison\n",
    "results, names, res = algo_comparison(X_train, Y_train)"
   ]
  },
  {
   "cell_type": "markdown",
   "id": "ce892267-86bc-41f4-89ba-a7bd6e9e748c",
   "metadata": {},
   "source": [
    "### Step 6: Compare accuracy using bar plot\n",
    "We can visualize which model performed best."
   ]
  },
  {
   "cell_type": "code",
   "execution_count": 6,
   "id": "8781387b-eb7c-4eea-920e-166bcd22bbf4",
   "metadata": {},
   "outputs": [
    {
     "data": {
      "image/png": "[encoded data removed]",
      "text/plain": [
       "<Figure size 1000x500 with 1 Axes>"
      ]
     },
     "metadata": {},
     "output_type": "display_data"
    }
   ],
   "source": [
    "from src.model import plot_algo_comparison\n",
    "plot_algo_comparison(names, res)"
   ]
  },
  {
   "cell_type": "markdown",
   "id": "e2467bb0-a59f-4a52-b1ad-57f493d3e635",
   "metadata": {},
   "source": [
    "### Insights\n",
    "- LDA is the top performer with 97.5% accuracy.\n",
    "- LR and SVC are strong contenders at 95%.\n",
    "- KNN and NB perform well at 94.17%.\n",
    "- RFC and DT lag slightly behind at 93.33% and 92.5%, respectively.\n",
    "- Overall, LDA is the best choice, with linear models and SVC as solid alternatives."
   ]
  },
  {
   "cell_type": "markdown",
   "id": "6f27f9ba-6584-4b24-b38f-36e8fce351b7",
   "metadata": {},
   "source": [
    "### Step 7: Compare accuracy using box plot\n",
    "We can visualize which model performed best."
   ]
  },
  {
   "cell_type": "code",
   "execution_count": 7,
   "id": "f9262a4f-8c04-46ab-925b-2528a41b78d2",
   "metadata": {},
   "outputs": [
    {
     "data": {
      "image/png": "[encoded data removed]",
      "text/plain": [
       "<Figure size 1000x500 with 1 Axes>"
      ]
     },
     "metadata": {},
     "output_type": "display_data"
    }
   ],
   "source": [
    "from src.model import boxplot_algo_comparison\n",
    "boxplot_algo_comparison(results, names)"
   ]
  },
  {
   "cell_type": "markdown",
   "id": "61dd7d08-e841-4984-8c73-9ee7e6e0be3b",
   "metadata": {},
   "source": [
    "### Insights\n",
    "- LDA shows the highest median accuracy (~97.5%) and low variance, indicating consistent performance across folds.\n",
    "- LR and SVC also perform strongly (~95%) with relatively stable results.\n",
    "- KNN and NB have moderate performance (~94.17%) with slightly more variability.\n",
    "- RFC and DT show lower median accuracies (~93.33% and 92.5%) and higher spread, suggesting less stable performance.\n",
    "- Overall, LDA is the most reliable model, while linear models and SVC provide strong, stable alternatives."
   ]
  },
  {
   "cell_type": "markdown",
   "id": "5e5718e8-b8d7-4ebb-b333-deb5d516e998",
   "metadata": {},
   "source": [
    "### step 8: Accurancy table\n",
    "Create a DataFrame to summarize model accuracies"
   ]
  },
  {
   "cell_type": "code",
   "execution_count": 8,
   "id": "ec0aaa92-8627-456b-aa13-344728ade402",
   "metadata": {},
   "outputs": [
    {
     "name": "stdout",
     "output_type": "stream",
     "text": [
      "  Models  Mean_Accuracy\n",
      "5    LDA          97.50\n",
      "4    SVC          95.00\n",
      "0     LR          95.00\n",
      "3    KNN          94.17\n",
      "6     NB          94.17\n",
      "2    RFC          93.33\n",
      "1     DT          92.50\n"
     ]
    }
   ],
   "source": [
    "from src.model import accu_table\n",
    "accu_table(names, res)"
   ]
  },
  {
   "cell_type": "markdown",
   "id": "3c4722c6-c2bf-4dc7-a318-931bad828529",
   "metadata": {},
   "source": [
    "### Insights\n",
    "- Clear table showing each model's mean accuracy\n",
    "- Best models can be selected for final evaluation (usually LDA or SVC)"
   ]
  },
  {
   "cell_type": "markdown",
   "id": "37cee49e-c049-4434-9dc4-70bcf7415b02",
   "metadata": {},
   "source": [
    "## Summary\n",
    "\n",
    "- Dataset split:80% training / 20% testing  \n",
    "- Trained 7 ML algorithms:\n",
    "  - Logistic Regression (LR) \n",
    "  - Decision Tree (DT)\n",
    "  - Random Forest (RFC) \n",
    "  - K-Nearest Neighbors (KNN)  \n",
    "  - Support Vector Classifier (SVC)\n",
    "  - Linear Discriminant Analysis (LDA)  \n",
    "  - Naive Bayes (NB)\n",
    "- Evaluation method: ***10-fold Stratified Cross-Validation***  \n",
    "- Visualizations:Bar Chart and Box Plot  \n",
    "- Accuracy table: Models ranked by mean accuracy  \n",
    "\n",
    "### Key Takeaways\n",
    "\n",
    "- ***LDA*** achieved the ***highest accuracy (97.5%)***, making it the top-performing model.  \n",
    "- ***Logistic Regression (95%)*** and ***SVC (95%)*** are strong alternatives, showing stable performance.  \n",
    "- ***KNN (94.17%)*** and ***Naive Bayes (94.17%)*** performed reasonably well with slight variability.  \n",
    "- ***Random Forest (93.33%)*** and ***Decision Tree (92.5%)*** performed moderately, indicating less stability or minor overfitting.  \n",
    "- Overall, ***ensemble methods*** are useful, but for this dataset, ***LDA and linear models*** outperform most others.  \n",
    "- Bar and box plots clearly highlight ***accuracy trends and consistency*** across models.\n"
   ]
  }
 ],
 "metadata": {
  "kernelspec": {
   "display_name": "Python (ML Environment)",
   "language": "python",
   "name": "ml-env"
  },
  "language_info": {
   "codemirror_mode": {
    "name": "ipython",
    "version": 3
   },
   "file_extension": ".py",
   "mimetype": "text/x-python",
   "name": "python",
   "nbconvert_exporter": "python",
   "pygments_lexer": "ipython3",
   "version": "3.9.6"
  }
 },
 "nbformat": 4,
 "nbformat_minor": 5
}
