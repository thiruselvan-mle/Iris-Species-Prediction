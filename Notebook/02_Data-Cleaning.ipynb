{
 "cells": [
  {
   "cell_type": "markdown",
   "id": "07929d63-166a-4f3f-816b-1b0e22788c51",
   "metadata": {},
   "source": [
    "#  Data Cleaning (Iris Species Dataset)\n",
    "\n",
    "### In this notebook, we will:\n",
    "1. Load the dataset from `data/` folder.\n",
    "2. Check for duplicate rows.\n",
    "3. Handle missing values (if any).\n",
    "4. Convert target column (`Species`) to numeric using encoding.\n",
    "5. Save cleaned dataset for further analysis.\n",
    "6. Summarize observations for next step (EDA)."
   ]
  },
  {
   "cell_type": "markdown",
   "id": "b380b1aa-7904-47e3-bc69-f340a8b8abd4",
   "metadata": {},
   "source": [
    "### Step 1: Set Project Root for Python Imports"
   ]
  },
  {
   "cell_type": "code",
   "execution_count": 1,
   "id": "2ccf9f16-0125-4677-95ed-e7ab1e44d9cf",
   "metadata": {},
   "outputs": [],
   "source": [
    "import os\n",
    "import sys\n",
    "\n",
    "# Add project root to sys.path\n",
    "sys.path.append(os.path.abspath(\"..\"))"
   ]
  },
  {
   "cell_type": "markdown",
   "id": "77964a3b-2fb1-45af-a6d9-b2d90ad34569",
   "metadata": {},
   "source": [
    "### Step 2: Load Dataset\n",
    "Load the Iris CSV dataset and preview it."
   ]
  },
  {
   "cell_type": "code",
   "execution_count": 2,
   "id": "ff986163-cd38-41d8-ab8a-bac8e20f8782",
   "metadata": {},
   "outputs": [
    {
     "data": {
      "text/html": [
       "<div>\n",
       "<style scoped>\n",
       "    .dataframe tbody tr th:only-of-type {\n",
       "        vertical-align: middle;\n",
       "    }\n",
       "\n",
       "    .dataframe tbody tr th {\n",
       "        vertical-align: top;\n",
       "    }\n",
       "\n",
       "    .dataframe thead th {\n",
       "        text-align: right;\n",
       "    }\n",
       "</style>\n",
       "<table border=\"1\" class=\"dataframe\">\n",
       "  <thead>\n",
       "    <tr style=\"text-align: right;\">\n",
       "      <th></th>\n",
       "      <th>Id</th>\n",
       "      <th>SepalLengthCm</th>\n",
       "      <th>SepalWidthCm</th>\n",
       "      <th>PetalLengthCm</th>\n",
       "      <th>PetalWidthCm</th>\n",
       "      <th>Species</th>\n",
       "    </tr>\n",
       "  </thead>\n",
       "  <tbody>\n",
       "    <tr>\n",
       "      <th>0</th>\n",
       "      <td>1</td>\n",
       "      <td>5.1</td>\n",
       "      <td>3.5</td>\n",
       "      <td>1.4</td>\n",
       "      <td>0.2</td>\n",
       "      <td>Iris-setosa</td>\n",
       "    </tr>\n",
       "    <tr>\n",
       "      <th>1</th>\n",
       "      <td>2</td>\n",
       "      <td>4.9</td>\n",
       "      <td>3.0</td>\n",
       "      <td>1.4</td>\n",
       "      <td>0.2</td>\n",
       "      <td>Iris-setosa</td>\n",
       "    </tr>\n",
       "    <tr>\n",
       "      <th>2</th>\n",
       "      <td>3</td>\n",
       "      <td>4.7</td>\n",
       "      <td>3.2</td>\n",
       "      <td>1.3</td>\n",
       "      <td>0.2</td>\n",
       "      <td>Iris-setosa</td>\n",
       "    </tr>\n",
       "    <tr>\n",
       "      <th>3</th>\n",
       "      <td>4</td>\n",
       "      <td>4.6</td>\n",
       "      <td>3.1</td>\n",
       "      <td>1.5</td>\n",
       "      <td>0.2</td>\n",
       "      <td>Iris-setosa</td>\n",
       "    </tr>\n",
       "    <tr>\n",
       "      <th>4</th>\n",
       "      <td>5</td>\n",
       "      <td>5.0</td>\n",
       "      <td>3.6</td>\n",
       "      <td>1.4</td>\n",
       "      <td>0.2</td>\n",
       "      <td>Iris-setosa</td>\n",
       "    </tr>\n",
       "  </tbody>\n",
       "</table>\n",
       "</div>"
      ],
      "text/plain": [
       "   Id  SepalLengthCm  SepalWidthCm  PetalLengthCm  PetalWidthCm      Species\n",
       "0   1            5.1           3.5            1.4           0.2  Iris-setosa\n",
       "1   2            4.9           3.0            1.4           0.2  Iris-setosa\n",
       "2   3            4.7           3.2            1.3           0.2  Iris-setosa\n",
       "3   4            4.6           3.1            1.5           0.2  Iris-setosa\n",
       "4   5            5.0           3.6            1.4           0.2  Iris-setosa"
      ]
     },
     "execution_count": 2,
     "metadata": {},
     "output_type": "execute_result"
    }
   ],
   "source": [
    "from src.data import load_data\n",
    "df = load_data('D:\\Thiru\\ML_Projects\\Iris-Species-Prediction\\Data\\Raw\\iris.csv')\n",
    "df.head()"
   ]
  },
  {
   "cell_type": "markdown",
   "id": "155163eb-7d52-471b-bec9-18a63481ea1a",
   "metadata": {},
   "source": [
    "### Step 3: Check for Duplicate Rows\n",
    "Identify if any duplicate rows exist in the dataset."
   ]
  },
  {
   "cell_type": "code",
   "execution_count": 3,
   "id": "6d7f2a28-f472-4191-a180-cbc074e8b38e",
   "metadata": {},
   "outputs": [
    {
     "name": "stdout",
     "output_type": "stream",
     "text": [
      "Number of duplicate rows: 0\n"
     ]
    }
   ],
   "source": [
    "from src.data import ckeck_duplicate\n",
    "df=ckeck_duplicate(df)"
   ]
  },
  {
   "cell_type": "markdown",
   "id": "d017e426-7871-4903-bfc2-18a16830701f",
   "metadata": {},
   "source": [
    "### Step 4: Dropping Column\n",
    "- Id is dropped as they are not useful for prediction."
   ]
  },
  {
   "cell_type": "code",
   "execution_count": 4,
   "id": "6be17e37-3914-4dd9-807b-cc9ed1d1096e",
   "metadata": {},
   "outputs": [],
   "source": [
    "from src.data import drop_cols\n",
    "df=drop_cols(df)"
   ]
  },
  {
   "cell_type": "markdown",
   "id": "908704b4-8b93-4336-93db-369f23ef4785",
   "metadata": {},
   "source": [
    "### Step 5: Encode Target Column\n",
    "Convert the target column `Species` to numeric values using Label Encoding."
   ]
  },
  {
   "cell_type": "code",
   "execution_count": 5,
   "id": "17ec797b-5eb4-48ba-955e-e5f80568dbf4",
   "metadata": {},
   "outputs": [],
   "source": [
    "from src.data import encode_target\n",
    "df, le=encode_target(df)"
   ]
  },
  {
   "cell_type": "markdown",
   "id": "f070faba-c756-48f5-8902-07bb002dc298",
   "metadata": {},
   "source": [
    "### Step 6: Save Cleaned Dataset\n",
    "Save the cleaned dataset to `Data/Processed` folder for use in EDA and modeling."
   ]
  },
  {
   "cell_type": "code",
   "execution_count": 6,
   "id": "ea2e9122-a371-4880-a2dd-d4cd86996623",
   "metadata": {},
   "outputs": [
    {
     "name": "stdout",
     "output_type": "stream",
     "text": [
      "Cleaned dataset saved to D:\\Thiru\\ML_Projects\\Iris-Species-Prediction\\Data\\processed\\cleaned_iris.csv\n"
     ]
    }
   ],
   "source": [
    "from src.data import save_cleaned_data\n",
    "df = save_cleaned_data(df) "
   ]
  },
  {
   "cell_type": "markdown",
   "id": "da9d2349-27b8-4a07-b628-18d4a78e4e1e",
   "metadata": {},
   "source": [
    "### Step 7: Save Label_Encoded and Load Label_Encoded"
   ]
  },
  {
   "cell_type": "code",
   "execution_count": 7,
   "id": "d3bb9872-a237-4998-8f63-3b94d2a8d551",
   "metadata": {},
   "outputs": [
    {
     "name": "stdout",
     "output_type": "stream",
     "text": [
      "Label_Encoded saved to D:\\Thiru\\ML_Projects\\Iris-Species-Prediction\\models\\le.pkl\n",
      "Label_Encoded loaded from D:\\Thiru\\ML_Projects\\Iris-Species-Prediction\\models\\le.pkl\n"
     ]
    }
   ],
   "source": [
    "from src.data import save_le\n",
    "save_le(le, filename=r\"D:\\Thiru\\ML_Projects\\Iris-Species-Prediction\\models\\le.pkl\")\n",
    "\n",
    "from src.data import load_le\n",
    "le = load_le(filename=r\"D:\\Thiru\\ML_Projects\\Iris-Species-Prediction\\models\\le.pkl\")"
   ]
  },
  {
   "cell_type": "markdown",
   "id": "4f85cb32-a17c-40ca-a955-f11297cdbe07",
   "metadata": {},
   "source": [
    "### Summary & Observations\n",
    "\n",
    "- Dataset has no missing values.\n",
    "- Duplicate rows (if any) were removed.\n",
    "- Target column `Species` converted to numeric for ML.\n",
    "- Cleaned dataset saved as `cleaned_iris.csv`.\n",
    "- Next Steps: \n",
    "  1. Perform Exploratory Data Analysis (EDA).\n",
    "  2. Visualize feature relationships and species distribution."
   ]
  }
 ],
 "metadata": {
  "kernelspec": {
   "display_name": "Python (ML Environment)",
   "language": "python",
   "name": "ml-env"
  },
  "language_info": {
   "codemirror_mode": {
    "name": "ipython",
    "version": 3
   },
   "file_extension": ".py",
   "mimetype": "text/x-python",
   "name": "python",
   "nbconvert_exporter": "python",
   "pygments_lexer": "ipython3",
   "version": "3.9.6"
  }
 },
 "nbformat": 4,
 "nbformat_minor": 5
}
